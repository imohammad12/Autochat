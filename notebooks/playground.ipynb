{
 "cells": [
  {
   "cell_type": "code",
   "execution_count": 22,
   "id": "dc82658c-9237-4e97-93b0-46d80f95d846",
   "metadata": {},
   "outputs": [
    {
     "name": "stdout",
     "output_type": "stream",
     "text": [
      "The autoreload extension is already loaded. To reload it, use:\n",
      "  %reload_ext autoreload\n"
     ]
    }
   ],
   "source": [
    "%load_ext autoreload\n",
    "%autoreload 2\n",
    "!export CUDA_VISIBLE_DEVICES=5\n",
    "\n",
    "import sys\n",
    "    \n",
    "import re\n",
    "import os\n",
    "import json\n",
    "import torch\n",
    "import numpy as np\n",
    "\n",
    "sys.path.append('../')"
   ]
  },
  {
   "cell_type": "code",
   "execution_count": 166,
   "id": "d6dd22d0-ed6e-4bc0-8e4f-664e6c3db842",
   "metadata": {},
   "outputs": [],
   "source": [
    "#!/usr/bin/env python\n",
    "from typing import List\n",
    "\n",
    "from fastapi import FastAPI\n",
    "from langchain_core.prompts import ChatPromptTemplate\n",
    "from langchain_openai import ChatOpenAI\n",
    "from langchain_community.document_loaders import WebBaseLoader\n",
    "from langchain_openai import OpenAIEmbeddings\n",
    "from langchain_community.vectorstores import FAISS\n",
    "from langchain_text_splitters import RecursiveCharacterTextSplitter\n",
    "from langchain.tools.retriever import create_retriever_tool\n",
    "from langchain_community.tools.tavily_search import TavilySearchResults\n",
    "from langchain_openai import ChatOpenAI\n",
    "from langchain import hub\n",
    "from langchain.agents import create_openai_functions_agent\n",
    "from langchain.agents import AgentExecutor\n",
    "from langchain.pydantic_v1 import BaseModel, Field\n",
    "from langchain_core.messages import BaseMessage\n",
    "from langserve import add_routes\n",
    "from langchain_community.embeddings import HuggingFaceEmbeddings"
   ]
  },
  {
   "cell_type": "code",
   "execution_count": 239,
   "id": "a3a5bdfc-2cd0-4a87-9b32-7b06976f6c5f",
   "metadata": {},
   "outputs": [],
   "source": [
    "import torch\n",
    "from dataclasses import asdict\n",
    "from src.autodesk_chat.arguments import EmbeddingModelArguments, PageLoaderArguments, TextSplitterArguments\n",
    "from src.autodesk_chat.page_loaders import PageLoader\n",
    "from src.autodesk_chat.text_splitters import RecursiveCharacterTextSplitterAndFilterer, HTMLHeaderTextSplitterAndFilterer, HTMLHeaderTextSplitter\n",
    "from langchain_community.embeddings import HuggingFaceEmbeddings\n",
    "from langchain_community.vectorstores import FAISS\n",
    "from transformers import HfArgumentParser"
   ]
  },
  {
   "cell_type": "code",
   "execution_count": 221,
   "id": "10d81195-4c99-4891-9a58-756bad6dc1eb",
   "metadata": {
    "scrolled": true
   },
   "outputs": [],
   "source": [
    "config_file_path = \"../helpers/configs/create_vector_db_configs.json\""
   ]
  },
  {
   "cell_type": "code",
   "execution_count": 222,
   "id": "470d9f8b-9c8d-47f6-845c-0b3edb78a9bb",
   "metadata": {},
   "outputs": [
    {
     "data": {
      "text/plain": [
       "TextSplitterArguments(splitter_type='html_splitter', min_words_drop=2, parent_text_splitter_kwargs={'headers_to_split_on': [['h1', 'Header 1'], ['h2', 'Header 2'], ['h3', 'Header 3']]})"
      ]
     },
     "execution_count": 222,
     "metadata": {},
     "output_type": "execute_result"
    }
   ],
   "source": [
    "parser = HfArgumentParser([PageLoaderArguments, EmbeddingModelArguments, TextSplitterArguments])\n",
    "page_loader_args, embed_model_args, text_splitter_args = parser.parse_json_file(config_file_path)\n",
    "page_loader_args: PageLoaderArguments\n",
    "embed_model_args: EmbeddingModelArguments\n",
    "text_splitter_args: TextSplitterArguments\n",
    "device = torch.device('cuda' if torch.cuda.is_available() else 'cpu')\n",
    "embed_model_args.model_kwargs['device'] = device\n",
    "page_loader_args.pages_dir = \"../data/pages/\"\n",
    "text_splitter_args"
   ]
  },
  {
   "cell_type": "code",
   "execution_count": 163,
   "id": "916ed824-e9d8-4074-8d95-25cdb34af843",
   "metadata": {},
   "outputs": [],
   "source": [
    "# Loading the page loader\n",
    "page_loader = PageLoader(**asdict(page_loader_args))"
   ]
  },
  {
   "cell_type": "code",
   "execution_count": 82,
   "id": "8c3caeca-63f0-488c-90d3-fa7d052c7e71",
   "metadata": {},
   "outputs": [],
   "source": [
    "# Loading the embedding model\n",
    "hf_embedding = HuggingFaceEmbeddings(**asdict(embed_model_args))"
   ]
  },
  {
   "cell_type": "code",
   "execution_count": 83,
   "id": "274295e6-f806-4b50-99c0-85aed5dfbab7",
   "metadata": {},
   "outputs": [],
   "source": [
    "docs = page_loader.load()"
   ]
  },
  {
   "cell_type": "code",
   "execution_count": 156,
   "id": "d58abc38-5d12-4211-ad03-73405ff37fd5",
   "metadata": {},
   "outputs": [],
   "source": [
    "raw_pages = list(page_loader.load_raw_pages())"
   ]
  },
  {
   "cell_type": "code",
   "execution_count": 223,
   "id": "fa744bcb-0c2a-4edb-a263-4f0c567424f5",
   "metadata": {},
   "outputs": [],
   "source": [
    "text_splitter = HTMLHeaderTextSplitterAndFilterer(\n",
    "    min_words_drop=text_splitter_args.min_words_drop,\n",
    "    **text_splitter_args.parent_text_splitter_kwargs\n",
    ")\n",
    "# documents = text_splitter.split_documents(docs)\n",
    "# documents = text_splitter.split_text()"
   ]
  },
  {
   "cell_type": "code",
   "execution_count": 243,
   "id": "96f9d3cb-e8b3-44dc-943b-8061aa4b4d56",
   "metadata": {},
   "outputs": [],
   "source": [
    "html_splitter = HTMLHeaderTextSplitter(headers_to_split_on=[(\"h1\", \"head1\"), (\"h2\", \"head2\"), (\"h3\", \"head3\")])"
   ]
  },
  {
   "cell_type": "code",
   "execution_count": 268,
   "id": "6a3bf147-8dd6-4437-aa2d-6801f89c309c",
   "metadata": {},
   "outputs": [],
   "source": [
    "# docs_list_hmtl_split = html_splitter.split_text(raw_pages[0].page_content)\n",
    "rec_splitter = RecursiveCharacterTextSplitterAndFilterer(min_words_drop=7, do_clean=True, chunk_size=1000)\n",
    "# RecursiveCharacterTextSplitter(separators=)\n",
    "documents_from_rec_spt = rec_splitter.split_documents(docs)\n",
    "# rec_splitterdocs_list_hmtl_split[0]\n",
    "# raw_pages[0]."
   ]
  },
  {
   "cell_type": "code",
   "execution_count": 269,
   "id": "cd191d10-c74a-4ec1-8c78-18c5cf640555",
   "metadata": {
    "scrolled": true
   },
   "outputs": [
    {
     "data": {
      "text/plain": [
       "10985"
      ]
     },
     "execution_count": 269,
     "metadata": {},
     "output_type": "execute_result"
    }
   ],
   "source": [
    "len(documents_from_rec_spt)"
   ]
  },
  {
   "cell_type": "code",
   "execution_count": 270,
   "id": "27ca9a05-c726-4fdd-b07b-4b1f104affa9",
   "metadata": {},
   "outputs": [
    {
     "data": {
      "text/plain": [
       "10985"
      ]
     },
     "execution_count": 270,
     "metadata": {},
     "output_type": "execute_result"
    }
   ],
   "source": [
    "len(documents_from_rec_spt)"
   ]
  },
  {
   "cell_type": "code",
   "execution_count": 271,
   "id": "b34d556e-232f-476f-a152-c214b98b9511",
   "metadata": {},
   "outputs": [
    {
     "data": {
      "text/plain": [
       "Document(page_content='Advance Steel Key Features 2022 | Upcoming Advanced Features 2023 | Autodesk\\nContact sales at\\nTalk to sales:\\nHave Autodesk contact you\\nDownload free trial\\nSee pricing options\\nContact sales at\\nTalk to sales:\\nHave Autodesk contact you\\nDownload free trial\\nSee pricing options\\nFeatures\\nSteel modeling\\nDetailing & documentation\\nInteroperability\\nSystem requirements\\nBack\\nAdvance Steel features\\nAdvance Steel tools drive efficient steel design and workflows, while complementary products in the AEC Collection offer enhanced analytic, automation, and model coordination when working in BIM.\\nSteel modeling\\nParametric steel connections\\nModel more quickly, efficiently, and accurately with a customizable library of ready-to-use steel connections.\\nLearn more\\nStairs and cage ladders\\nDiscover and model non-structural building elements quickly and accurately.\\nLearn more\\nSheet metal and folded plate work\\nCreate 3D folded elements of any sheet metal shape faster.\\nLearn more\\nDynamo Extension for Advance Steel', metadata={'title': 'Advance Steel Key Features 2022 | Upcoming Advanced Features 2023 | Autodesk', 'description': 'Advance Steel detailing software features a library of intelligent parametric elements, steel connections, and plates for steel detailing and fabrication. ', 'language': 'en-US', 'page_format': 'html', 'page_id': 'adsk-0d6daa6f32e84f4dbc90d9a3c3693e32'})"
      ]
     },
     "execution_count": 271,
     "metadata": {},
     "output_type": "execute_result"
    }
   ],
   "source": [
    "documents_from_rec_spt[0]"
   ]
  },
  {
   "cell_type": "code",
   "execution_count": 229,
   "id": "fb795ea2-2c83-4c12-9841-db65f2a7e781",
   "metadata": {},
   "outputs": [
    {
     "name": "stderr",
     "output_type": "stream",
     "text": [
      "Splitting pages with HTML splitter: 100%|██████████████████████████████████████████████████████████████████████████████████████████████████████████████████████████████████████████████████████████████████████████████████████████████████████████████████████| 1218/1218 [02:08<00:00,  9.46it/s]\n"
     ]
    }
   ],
   "source": [
    "documents = text_splitter.split_documents(raw_pages)"
   ]
  },
  {
   "cell_type": "code",
   "execution_count": 283,
   "id": "d277607f-3632-4040-93c2-22bc9bffbd4c",
   "metadata": {},
   "outputs": [],
   "source": [
    "# raw_pages[0].page_content\n",
    "# print(documents[0].page_content)\n",
    "# len(documents)\n",
    "no_header_docs = []\n",
    "with_header_docs = []\n",
    "for idoc in documents:\n",
    "    have_header = []\n",
    "    for header in [\"Header 1\", \"Header 2\", \"Header 3\"]:\n",
    "        have_header.append(header in idoc.metadata)\n",
    "    if not any(have_header):\n",
    "        no_header_docs.append(idoc)\n",
    "    else:\n",
    "        with_header_docs.append(idoc)\n",
    "            "
   ]
  },
  {
   "cell_type": "code",
   "execution_count": 284,
   "id": "407b6ea5-3b83-4929-8daa-c3e8e5e824ee",
   "metadata": {},
   "outputs": [
    {
     "data": {
      "text/plain": [
       "(2256, 4639, 2383)"
      ]
     },
     "execution_count": 284,
     "metadata": {},
     "output_type": "execute_result"
    }
   ],
   "source": [
    "len(no_header_docs), len(documents), len(with_header_docs)"
   ]
  },
  {
   "cell_type": "code",
   "execution_count": 285,
   "id": "8b7b0991-79ed-4eb4-95c4-8a50d33fedcb",
   "metadata": {},
   "outputs": [],
   "source": [
    "rec_splittecd_docs = rec_splitter.split_documents(no_header_docs)"
   ]
  },
  {
   "cell_type": "code",
   "execution_count": 291,
   "id": "522d33d0-b4c5-4a0f-ace9-9780d6b15563",
   "metadata": {
    "scrolled": true
   },
   "outputs": [
    {
     "data": {
      "text/plain": [
       "(Document(page_content='Contact sales at\\nTalk to sales:\\nHave Autodesk contact you\\nDownload free trial\\nSee pricing options\\nContact sales at\\nTalk to sales:\\nHave Autodesk contact you\\nDownload free trial\\nSee pricing options\\nFeatures\\nSteel modeling\\nDetailing & documentation\\nInteroperability\\nSystem requirements\\nBack\\nAdvance Steel features\\nAdvance Steel tools drive efficient steel design and workflows, while complementary products in the AEC Collection offer enhanced analytic, automation, and model coordination when working in BIM.\\nSteel modeling\\nParametric steel connections\\nModel more quickly, efficiently, and accurately with a customizable library of ready-to-use steel connections.\\nLearn more\\nStairs and cage ladders\\nDiscover and model non-structural building elements quickly and accurately.\\nLearn more\\nSheet metal and folded plate work\\nCreate 3D folded elements of any sheet metal shape faster.\\nLearn more\\nDynamo Extension for Advance Steel', metadata={'format': 'html', 'id': 'adsk-0d6daa6f32e84f4dbc90d9a3c3693e32'}),\n",
       " Document(page_content='Contact sales at 1-844-840-7930  \\nTalk to sales: 1-844-840-7930  \\nHave Autodesk contact you  \\nDownload free trial  \\nSee pricing options  \\nContact sales at 1-844-840-7930  \\nTalk to sales: 1-844-840-7930  \\nHave Autodesk contact you  \\nDownload free trial  \\nSee pricing options  \\nFeatures  \\nSteel modeling  \\nDetailing & documentation  \\nInteroperability  \\nSystem requirements  \\nBack  \\nAdvance Steel features  \\nAdvance Steel tools drive efficient steel design and workflows, while complementary products in the AEC Collection offer enhanced analytic, automation, and model coordination when working in BIM.  \\nSteel modeling  \\nParametric steel connections  \\nModel more quickly, efficiently, and accurately with a customizable library of ready-to-use steel connections.  \\nLearn more  \\nStairs and cage ladders  \\nDiscover and model non-structural building elements quickly and accurately.  \\nLearn more  \\nSheet metal and folded plate work  \\nCreate 3D folded elements of any sheet metal shape faster.  \\nLearn more  \\nDynamo Extension for Advance Steel  \\nUse Dynamo’s visual programming language to create parametrically driven geometries for complex structures.  \\nLearn more  \\nCode-checking and design validation  \\nCheck for compliance and validate steel-connections against AISC standards.  \\nLearn more  \\nPropagation of steel connections  \\nReduce tedious work and ensure accurate placement of steel connections with automated connection propagation.  \\nLearn more  \\nDetailing and documentation  \\nENHANCED  \\nGeneral arrangement drawings  \\nSet drawing styles and camera defaults, and use general arrangement drawings to document and clarify design intent for onsite construction.  \\nLearn more  \\nENHANCED  \\nSteel shop drawings  \\nAutomatically generate detailed and annotated fabrication-ready drawing sets.  \\nLearn more  \\nNumerical Control (NC) data  \\nGenerate detailed fabrication datasets to direct and drive CNC workshop machines.  \\nLearn more  \\nHide or show detailed parts  \\nIsolate parts and assemblies already detailed for fabrication.  \\nBills of Materials  \\nAutomatically generate BOMs from modeled element data for use in spreadsheets and reporting.  \\nLearn more  \\nDrawing update with revision  \\nUse revision clouds to reduce time spent tracking modifications to shop drawings.  \\nLearn more  \\nInteroperability  \\nBidirectional link with Revit  \\nSync model updates between Advance Steel and Revit to seamlessly track design changes and control for data loss as projects evolve.  \\nLearn more  \\nRobot Structural Analysis interoperability  \\nTransfer structural analysis data (including calculations) between Robot Structural Analysis and Advance Steel, and synchronize design, analysis, and detailing workflows.  \\nLearn more  \\nAutodesk Docs interoperability  \\nUse the compare tool in Autodesk Docs (formerly BIM 360 Docs) to track progress and assess change impacts.  \\nLearn more  \\nAutoCAD Plant 3D interoperability  \\nUse AutoCAD Plant 3D and Advance Steel together in the AEC Collection to connect and sync fabrication to plant design.  \\nLearn more  \\nMIS software interoperability  \\nExport data via KISS, XML, or IFC with MIS software.  \\nLearn more  \\nCustom settings import  \\nSave time by importing your custom settings when moving to new versions of Advance Steel.  \\nLearn more  \\nOpen and flexible API  \\nEnhance and extend the use of Advance Steel with APIs for managing data, connecting to other software, and custom tools for software developers.  \\nLearn more  \\nIFC capabilities  \\nImport or export a 3D model to an IFC 2x3 file.  \\nLearn more  \\nView native drawings in AutoCAD  \\nImprove data accessibility by viewing Advance Steel drawings with object enabler.  \\nNavisworks interoperability  \\nBring Advance Steel data into Navisworks for better quantification, simulation, review, and model coordination.  \\nLearn more  \\nShared views  \\nUse shared views for design collaboration, and show progress to stakeholders within or outside your organization.  \\nLearn more  \\nAttach a point cloud  \\nBring laser-scanned point cloud data into Advance Steel to design with snap-to functionality within the site context and existing conditions.  \\nLearn more  \\nAutodesk  \\nCompany overview  \\nCareers  \\nInvestor relations  \\nAutodesk Trust Center  \\nNewsroom  \\nDiversity and belonging  \\nAutodesk Foundation  \\nSustainability  \\nContact us  \\nStudents and educators  \\nAffiliate program  \\nAutodesk Research  \\nAutodesk Insights  \\nHow to buy  \\nView all products  \\nBuying with Autodesk  \\nRenewal options  \\nFind a reseller  \\nSales and refunds  \\nChoose your subscription plan  \\nPay as you go with Flex  \\nSupport  \\nProduct support  \\nManage your account  \\nDownload and install software  \\nCOVID-19 resources  \\nEducation support  \\nContact support  \\nPrivacy | Do not sell or share my personal information | Cookie preferences | Report noncompliance | Terms of use | Legal\\xa0|\\xa0© 2023 Autodesk Inc. All rights reserved', metadata={'format': 'html', 'id': 'adsk-0d6daa6f32e84f4dbc90d9a3c3693e32'}))"
      ]
     },
     "execution_count": 291,
     "metadata": {},
     "output_type": "execute_result"
    }
   ],
   "source": [
    "rec_splittecd_docs[0], no_header_docs[0]"
   ]
  },
  {
   "cell_type": "code",
   "execution_count": 286,
   "id": "2490a95d-ec70-413d-9113-3a56cd4b69d2",
   "metadata": {},
   "outputs": [
    {
     "data": {
      "text/plain": [
       "{'format': 'html', 'id': 'adsk-0d6daa6f32e84f4dbc90d9a3c3693e32'}"
      ]
     },
     "execution_count": 286,
     "metadata": {},
     "output_type": "execute_result"
    }
   ],
   "source": [
    "no_header_docs[0].metadata"
   ]
  },
  {
   "cell_type": "code",
   "execution_count": 293,
   "id": "f2c436fd-ae22-44aa-9ee1-05acedb3f1aa",
   "metadata": {},
   "outputs": [
    {
     "data": {
      "text/plain": [
       "15207"
      ]
     },
     "execution_count": 293,
     "metadata": {},
     "output_type": "execute_result"
    }
   ],
   "source": [
    "all_documents = rec_splittecd_docs + documents\n",
    "len(all_documents)"
   ]
  },
  {
   "cell_type": "code",
   "execution_count": 294,
   "id": "a5836559-532d-4c41-8a47-df1cc17728db",
   "metadata": {},
   "outputs": [
    {
     "name": "stderr",
     "output_type": "stream",
     "text": [
      "Batches: 100%|███████████████████████████████████████████████████████████████████████████████████████████████████████████████████████████████████████████████████████████████████████████████████████████████████████████████████████████████████████████████████| 476/476 [01:28<00:00,  5.35it/s]\n"
     ]
    }
   ],
   "source": [
    "vector = FAISS.from_documents(all_documents, hf_embedding)"
   ]
  },
  {
   "cell_type": "code",
   "execution_count": 332,
   "id": "20af78e9-7e34-4a6b-b0d0-692995b3eb46",
   "metadata": {},
   "outputs": [
    {
     "name": "stderr",
     "output_type": "stream",
     "text": [
      "Batches: 100%|███████████████████████████████████████████████████████████████████████████████████████████████████████████████████████████████████████████████████████████████████████████████████████████████████████████████████████████████████████████████████████| 1/1 [00:00<00:00, 47.68it/s]"
     ]
    },
    {
     "name": "stdout",
     "output_type": "stream",
     "text": [
      "Revit LT: 3D modeling tools for design changemakers\n",
      "Economical BIM software for inspired architecture\n",
      "Download free trial\n",
      "Download free trial\n",
      "See pricing options\n",
      "Download free trial\n",
      "See pricing options\n",
      "Overview\n",
      "Capabilities\n",
      "Customer stories\n",
      "FAQs\n",
      "Compare\n",
      "Back\n",
      "What is Revit LT?\n",
      "A BIM (Building Information Modeling) solution for the self-starter, Revit LT™️ is a cost-effective project workhorse for the small architecture studio or solo practitioner.\n",
      "Get all the design to documentation power of Revit at a fraction of the cost.\n",
      "Win more work where BIM is required.\n",
      "Accelerate production workflows and standardize deliverables to reduce rework.\n",
      "See system requirements\n",
      "Revit LT overview (video: 1:37 min.)\n",
      "What you can do with Revit LT\n",
      "Quickly define and document design intent\n",
      "With tools for sketching, model family creation, scheduling, annotating, and document production, Revit LT drives efficient BIM workflows for architectural design.\n",
      "See Revit LT features\n",
      "Grow your design business around BIM\n"
     ]
    },
    {
     "name": "stderr",
     "output_type": "stream",
     "text": [
      "\n"
     ]
    }
   ],
   "source": [
    "query = \"What's the difference between AutoCAD and Revit?\"\n",
    "# query = \"What does Fusion 360 do?\"\n",
    "query = \"What is Revit?\"\n",
    "i = 10\n",
    "print(vector.similarity_search_with_score(query, k=30)[i][0].page_content)"
   ]
  },
  {
   "cell_type": "code",
   "execution_count": 334,
   "id": "b768ebcd-7afe-4d8e-af39-9268c4a3e766",
   "metadata": {},
   "outputs": [],
   "source": [
    "# vector.save_local(\"../data/vector_db\")\n",
    "loaded_vector = FAISS.load_local(\"../data/vector_db/\", hf_embedding)"
   ]
  },
  {
   "cell_type": "code",
   "execution_count": 329,
   "id": "affbe78e-84c4-4433-84a5-31bf36749169",
   "metadata": {},
   "outputs": [
    {
     "data": {
      "text/plain": [
       "<langchain_community.vectorstores.faiss.FAISS at 0x7fddf9214940>"
      ]
     },
     "execution_count": 329,
     "metadata": {},
     "output_type": "execute_result"
    }
   ],
   "source": [
    "loaded_vector"
   ]
  },
  {
   "cell_type": "code",
   "execution_count": 454,
   "id": "fb7eab93-e7b1-4678-8c65-35444db5415f",
   "metadata": {},
   "outputs": [],
   "source": [
    "from langchain.chains.combine_documents import create_stuff_documents_chain\n",
    "from langchain_core.prompts import ChatPromptTemplate, MessagesPlaceholder\n",
    "\n",
    "openai_key = \"\"\n",
    "os.environ['OPENAI_API_KEY'] = openai_key \n",
    "\n",
    "chat = ChatOpenAI(model=\"gpt-3.5-turbo-1106\")\n",
    "\n",
    "question_answering_prompt = ChatPromptTemplate.from_messages(\n",
    "    [\n",
    "        (\n",
    "            \"system\",\n",
    "            \"Answer the user's questions JUST based on the below context.\"\n",
    "            \" YOU SHOULD NOT PROVIDE ANY INFORMATION NOT MENTIONED IN THE CONTEXT. \"\n",
    "            \"If it is not possible to answer user's question with the provided context just mention 'I do not have the knowledge to answer the question. Please refer to the customer service'. \"\n",
    "            \" \\n\\n context: {context}\",\n",
    "        ),\n",
    "        MessagesPlaceholder(variable_name=\"messages\"),\n",
    "    ]\n",
    ")"
   ]
  },
  {
   "cell_type": "code",
   "execution_count": 455,
   "id": "cf680b52-bf71-4050-81c3-d528128d4bdc",
   "metadata": {},
   "outputs": [],
   "source": [
    "document_chain = create_stuff_documents_chain(chat, question_answering_prompt)"
   ]
  },
  {
   "cell_type": "code",
   "execution_count": 456,
   "id": "0d5a4c1a-8cc1-421d-a7e1-0eab41343532",
   "metadata": {},
   "outputs": [
    {
     "data": {
      "text/plain": [
       "RunnableBinding(bound=RunnableBinding(bound=RunnableAssign(mapper={\n",
       "  context: RunnableLambda(format_docs)\n",
       "}), config={'run_name': 'format_inputs'})\n",
       "| ChatPromptTemplate(input_variables=['context', 'messages'], input_types={'messages': typing.List[typing.Union[langchain_core.messages.ai.AIMessage, langchain_core.messages.human.HumanMessage, langchain_core.messages.chat.ChatMessage, langchain_core.messages.system.SystemMessage, langchain_core.messages.function.FunctionMessage, langchain_core.messages.tool.ToolMessage]]}, messages=[SystemMessagePromptTemplate(prompt=PromptTemplate(input_variables=['context'], template=\"Answer the user's questions JUST based on the below context. YOU SHOULD NOT PROVIDE ANY INFORMATION NOT MENTIONED IN THE CONTEXT. If it is not possible to answer user's question with the provided context just mention 'I do not have the knowledge to answer the question. Please refer to the customer service'.  \\n\\n context: {context}\")), MessagesPlaceholder(variable_name='messages')])\n",
       "| ChatOpenAI(client=<openai.resources.chat.completions.Completions object at 0x7fdd907cf460>, async_client=<openai.resources.chat.completions.AsyncCompletions object at 0x7fdd907ce3e0>, model_name='gpt-3.5-turbo-1106', openai_api_key=SecretStr('**********'), openai_proxy='')\n",
       "| StrOutputParser(), config={'run_name': 'stuff_documents_chain'})"
      ]
     },
     "execution_count": 456,
     "metadata": {},
     "output_type": "execute_result"
    }
   ],
   "source": [
    "document_chain"
   ]
  },
  {
   "cell_type": "code",
   "execution_count": 457,
   "id": "34dc4da2-b06d-4ece-9607-9d69d9b77310",
   "metadata": {},
   "outputs": [],
   "source": [
    "# query = \"What's the difference between AutoCAD and Revit?\"\n",
    "query = \"What does Fusion 360 do?\"\n",
    "# query = \"Who is the president of USA?\"\n",
    "# i = 50\n",
    "# print(vector.similarity_search_with_score(query, k=50)[i][0].page_content)\n",
    "# context = vector.similarity_search_with_score(query, k=50)"
   ]
  },
  {
   "cell_type": "code",
   "execution_count": 488,
   "id": "03edd666-6ae0-45a5-941f-9ae260d50258",
   "metadata": {},
   "outputs": [
    {
     "name": "stderr",
     "output_type": "stream",
     "text": [
      "Batches: 100%|███████████████████████████████████████████████████████████████████████████████████████████████████████████████████████████████████████████████████████████████████████████████████████████████████████████████████████████████████████████████████████| 1/1 [00:00<00:00, 60.89it/s]\n"
     ]
    },
    {
     "data": {
      "text/plain": [
       "4"
      ]
     },
     "execution_count": 488,
     "metadata": {},
     "output_type": "execute_result"
    }
   ],
   "source": [
    "retriever = vector.as_retriever(k=15)\n",
    "context = retriever.invoke(query)\n",
    "len(context)"
   ]
  },
  {
   "cell_type": "code",
   "execution_count": 465,
   "id": "27c88f2a-67ba-4e8f-b14b-4a52b4433b9f",
   "metadata": {},
   "outputs": [
    {
     "name": "stderr",
     "output_type": "stream",
     "text": [
      "Batches: 100%|███████████████████████████████████████████████████████████████████████████████████████████████████████████████████████████████████████████████████████████████████████████████████████████████████████████████████████████████████████████████████████| 1/1 [00:00<00:00, 34.22it/s]\n"
     ]
    }
   ],
   "source": [
    "context = vector.similarity_search(query, k=20)\n",
    "# context"
   ]
  },
  {
   "cell_type": "code",
   "execution_count": 464,
   "id": "a10d4449-d3b7-4139-aebb-b28645aa3d2e",
   "metadata": {},
   "outputs": [
    {
     "data": {
      "text/plain": [
       "'Fusion 360 is a cloud-based 3D modeling, CAD, CAM, CAE, and PCB software platform for product design and manufacturing. It offers integrated capabilities and features for product development, including electronics design, simulation, collaboration, and machining.'"
      ]
     },
     "execution_count": 464,
     "metadata": {},
     "output_type": "execute_result"
    }
   ],
   "source": [
    "from langchain.memory import ChatMessageHistory\n",
    "\n",
    "demo_ephemeral_chat_history = ChatMessageHistory()\n",
    "\n",
    "demo_ephemeral_chat_history.add_user_message(query)\n",
    "\n",
    "document_chain.invoke(\n",
    "    {\n",
    "        \"messages\": demo_ephemeral_chat_history.messages,\n",
    "        \"context\": context,\n",
    "    }\n",
    ")"
   ]
  },
  {
   "cell_type": "code",
   "execution_count": 567,
   "id": "2bb6e644-afe3-41c7-94eb-10064ae51c7d",
   "metadata": {},
   "outputs": [],
   "source": [
    "from langchain_core.runnables import RunnablePassthrough, RunnableLambda, RunnableParallel\n",
    "from langchain_core.documents import Document\n",
    "from typing import Dict"
   ]
  },
  {
   "cell_type": "code",
   "execution_count": 514,
   "id": "4611687c-c0d3-4dca-a32c-dc69b260ece6",
   "metadata": {},
   "outputs": [],
   "source": [
    "\n",
    "def parse_retriever_input(params: Dict):\n",
    "    return params[\"messages\"][-1].content\n",
    "    # return params['messages']\n"
   ]
  },
  {
   "cell_type": "code",
   "execution_count": 599,
   "id": "215c4d29-c100-45d2-8b4c-2373143c93ee",
   "metadata": {},
   "outputs": [],
   "source": [
    "def invoke_vector(params: Dict):\n",
    "    query = params['query']\n",
    "    k = params['chunk_num']\n",
    "    return vector.similarity_search(query=query, k=k)"
   ]
  },
  {
   "cell_type": "code",
   "execution_count": 516,
   "id": "a2e73d18-ce04-41df-9c87-42e249b26a09",
   "metadata": {},
   "outputs": [],
   "source": [
    "retrieval_chain = RunnablePassthrough.assign(\n",
    "    context=RunnablePassthrough.assign(query=parse_retriever_input) | RunnableLambda(invoke_vector),\n",
    ").assign(\n",
    "    answer=document_chain,\n",
    ")"
   ]
  },
  {
   "cell_type": "code",
   "execution_count": 517,
   "id": "e98d0df4-aa29-4292-a79f-633920cb2ee7",
   "metadata": {},
   "outputs": [],
   "source": [
    "input_dict = {\n",
    "        \"messages\": demo_ephemeral_chat_history.messages,\n",
    "        \"chunk_num\": 15,\n",
    "        \"akbar\": 12\n",
    "    }"
   ]
  },
  {
   "cell_type": "code",
   "execution_count": 518,
   "id": "f63a2645-4c72-4260-bae9-8032e4926ef5",
   "metadata": {
    "scrolled": true
   },
   "outputs": [
    {
     "data": {
      "text/plain": [
       "{'messages': [HumanMessage(content='What does Fusion 360 do?')],\n",
       " 'chunk_num': 15,\n",
       " 'akbar': 12,\n",
       " 'query': 'What does Fusion 360 do?'}"
      ]
     },
     "execution_count": 518,
     "metadata": {},
     "output_type": "execute_result"
    }
   ],
   "source": [
    "# lm = RunnablePassthrough.assign(query=parse_retriever_input) | RunnableLambda(invoke_vector)\n",
    "get_query = RunnablePassthrough.assign(query=parse_retriever_input)\n",
    "get_query.invoke(input_dict)\n",
    "# lm.invoke({\n",
    "#     \"messages\": query,\n",
    "#     \"chunk_num\": 15\n",
    "# })\n",
    "# lm"
   ]
  },
  {
   "cell_type": "code",
   "execution_count": 521,
   "id": "54f584a7-3c28-429a-951d-7d85ebacc8a1",
   "metadata": {},
   "outputs": [],
   "source": [
    "demo_ephemeral_chat_history.add_ai_message(response['answer'])"
   ]
  },
  {
   "cell_type": "code",
   "execution_count": 519,
   "id": "179ea2ad-5ebc-4e51-b3b7-1f117ff5b2ea",
   "metadata": {
    "scrolled": true
   },
   "outputs": [
    {
     "name": "stderr",
     "output_type": "stream",
     "text": [
      "Batches: 100%|███████████████████████████████████████████████████████████████████████████████████████████████████████████████████████████████████████████████████████████████████████████████████████████████████████████████████████████████████████████████████████| 1/1 [00:00<00:00, 61.60it/s]\n"
     ]
    },
    {
     "data": {
      "text/plain": [
       "{'messages': [HumanMessage(content='What does Fusion 360 do?')],\n",
       " 'chunk_num': 15,\n",
       " 'akbar': 12,\n",
       " 'context': [Document(page_content='Download Fusion 360 for personal, hobby use. Need full features and functionality?', metadata={'format': 'html', 'id': 'adsk-b6a6cc8e4b924d3897b28275d9107e93', 'Header 2': \"Let's get started\"}),\n",
       "  Document(page_content='Download Fusion 360 for personal, hobby use.', metadata={'format': 'html', 'id': 'adsk-d16aba2dadfa44b59e276112652f582e', 'Header 2': \"Let's get started\"}),\n",
       "  Document(page_content='Download Fusion 360 for personal, hobby use.', metadata={'format': 'html', 'id': 'adsk-8ad2479af3714dc6babe46af31ae7a5c', 'Header 2': \"Let's get started\"}),\n",
       "  Document(page_content='Download Fusion 360 for personal, hobby use.', metadata={'format': 'html', 'id': 'adsk-3d37d5a102de4f6ab983ad1075a9de0a', 'Header 2': \"Let's get started\"}),\n",
       "  Document(page_content='Download Fusion 360 for personal, hobby use.', metadata={'format': 'html', 'id': 'adsk-dfcee855d4004f2e9f3bc44bfb867768', 'Header 2': \"Let's get started\"}),\n",
       "  Document(page_content='Download Fusion 360 for personal, hobby use.', metadata={'format': 'html', 'id': 'adsk-006fa23c214f48b4bf3f1e84aa398130', 'Header 2': \"Let's get started\"}),\n",
       "  Document(page_content='Download Fusion 360 for personal, hobby use.', metadata={'format': 'html', 'id': 'adsk-e076572f042b4c9eb6db6a9584b8c0d8', 'Header 2': \"Let's get started\"}),\n",
       "  Document(page_content=\"Fusion 360 for Product Design overview video (2:17 min.)\\nProduct Design offering benefits\\nAdvanced tools and automation\\nAccess 3D design and modeling tools that are manufacturing-aware and automate design processes\\nBuilt-in change management\\nManage design changes at any stage of production using pre-built workflows\\nImprove design performance\\nInvestigate the performance and manufacturability of your design with integrated simulation\\nSee what's included\\nDesign Extension\\nAutomate complex geometry to enhance the performance and aesthetics of your products.\\nWatch video (1:02 min)\\nSimulation Extension\\nOptimize part design and performance with unlimited cloud solves for generative design, FEA, electronic cooling, injection molding, and more.\\nWatch video (43 sec.)\\nManage Extension\\nExecute change orders, release management, automated part numbering, and bill of materials management.\\nWatch video (45 sec.)\\nFrequently asked questions (FAQs)\\nWhat is Fusion 360 for Product Design?\", metadata={'format': 'html', 'id': 'adsk-f53cf4aea399452892ba846f340d36b7'}),\n",
       "  Document(page_content=\"Fusion 360 for Product Design overview video (2:17 min.)\\nProduct Design offering benefits\\nAdvanced tools and automation\\nAccess 3D design and modeling tools that are manufacturing-aware and automate design processes\\nBuilt-in change management\\nManage design changes at any stage of production using pre-built workflows\\nImprove design performance\\nInvestigate the performance and manufacturability of your design with integrated simulation\\nSee what's included\\nDesign Extension\\nAutomate complex geometry to enhance the performance and aesthetics of your products.\\nWatch video (1:02 min)\\nSimulation Extension\\nOptimize part design and performance with unlimited cloud solves for generative design, FEA, electronic cooling, injection molding, and more.\\nWatch video (43 sec.)\\nManage Extension\\nExecute change orders, release management, automated part numbering, and bill of materials management.\\nWatch video (45 sec.)\\nFrequently asked questions (FAQs)\\nWhat is Fusion 360 for Product Design?\", metadata={'format': 'html', 'id': 'adsk-9112e64751124e2aa726781c3b6b5aa4'}),\n",
       "  Document(page_content=\"Choose 'A business user' and get a free 30-day trial of Fusion 360.\", metadata={'format': 'html', 'id': 'adsk-b6a6cc8e4b924d3897b28275d9107e93', 'Header 2': \"Let's get started\", 'Header 3': 'Need full features and functionality?'}),\n",
       "  Document(page_content=\"Visit forum\\nAdditional Fusion 360 learning resources\\nProject documentation\\nExplore technical documentation and step-by-step guides.\\nFusion 360 Insider Program\\nAccess new features in Fusion 360 weeks before everyone else and provide feedback directly to product teams.\\nYouTube channel\\nVisit the Fusion 360 YouTube channel to view tips, live learning sessions, and see what's new.\\nBetter together: Fusion 360 & our partners\\nAutodesk Fusion 360 partners with industry leaders across the design and manufacturing space to develop deeper technology integrations through collaboration. Explore our hardware, software, and channel sales and services partners.\\nLearn more\\nNeed technical support?\\nFusion 360 subscribers get access to our team of technical support experts.\\nVisit support\\nReady to accelerate your career?\\nExplore Fusion 360 certifications\\nEarn money by referring a friend to Fusion 360\\nEarn 50 and give 50 to every friend you refer to Fusion 360 who subscribes to an annual subscription.\", metadata={'format': 'html', 'id': 'adsk-a3327b6cbc244459be76f896dfc71e3a'}),\n",
       "  Document(page_content='Get a free, limited version of Fusion 360 for home-based, non-commercial projects.', metadata={'format': 'html', 'id': 'adsk-b6a6cc8e4b924d3897b28275d9107e93', 'Header 2': \"Let's get started\", 'Header 3': 'Download Fusion 360 for personal, hobby use.'}),\n",
       "  Document(page_content='Download free trial  \\nSee Fusion 360 pricing  \\nDownload free trial  \\nSee Fusion 360 pricing  \\nFusion 360 Overview  \\nFor teams  \\nBy role  \\nMachinist  \\nMechanical Engineer  \\nIndustrial Designer  \\nElectronics Engineer  \\nCollaborator  \\nUse cases  \\nCNC machining  \\nConsumer product development  \\nDesign for Manufacturing  \\nPrototyping & fabrication  \\nExtensions  \\nOverview  \\nManufacturing Extension  \\nSimulation Extension  \\nDesign Extension  \\nSignal Integrity Extension  \\nManage Extension  \\nStart free trial  \\nBuy Fusion 360  \\nBack  \\nDownload free trial of Fusion 360  \\nTry Fusion 360 for free with a 30-day trial. Access all capabilities and features with integrated CAD, CAM, CAE, and PCB software.  \\nDownload free trial  \\nWhat is Fusion 360?  \\nFusion 360 is a cloud-based 3D modeling, CAD, CAM, CAE, and PCB software platform for product design and manufacturing.  \\nDesign and engineer products how you want to ensure aesthetics, form, fit, and function  \\nEngineer, design, and create anything with comprehensive electronics and PCB design tools  \\nSave time and money and get quality parts out the door faster  \\nSee system requirements  \\nExplore Fusion 360  \\nConnect with an expert  \\nGet your questions answered, discuss your current business needs, and learn how Fusion 360 can help you achieve your goals.  \\nRequest a demo  \\nTalk to an expert: 1-833-843-3437  \\nFrequently asked questions (FAQs)  \\nWhere can I download Fusion 360?  \\nDownload Fusion 360 as a 30-day free trial here. Existing subscribers can also access Fusion 360 in their Autodesk account.  \\nHow can I download Fusion 360 for free?  \\nFusion 360 can be downloaded as a free commercial trial for 30 days, or as a personal use subscription with limited functionality.  \\nIs Fusion 360 still free for hobbyists or for personal use?  \\nFusion 360 is available for free personal use for individuals who are doing home-based, non-commercial design, manufacturing, and fabrication projects.  \\nIs Fusion 360 free for students?  \\nFusion 360 is free cloud-based 3D CAD, CAM, CAE and PCB software for qualifying students as a 1-year subscription. Download Fusion 360 for students  \\nIs Fusion 360 free for schools?  \\nFusion 360 is free software for educators, academic institutions, and students as a 1-year subscription. Download Fusion 360 for schools  \\nSee more  \\nSee less  \\nSupport and problem solving  \\nFind troubleshooting articles and resolve your issue.  \\nAutodesk  \\nCompany overview  \\nCareers  \\nInvestor relations  \\nAutodesk Trust Center  \\nNewsroom  \\nDiversity and belonging  \\nAutodesk Foundation  \\nSustainability  \\nContact us  \\nStudents and educators  \\nAffiliate program  \\nAutodesk Research  \\nAutodesk Insights  \\nHow to buy  \\nView all products  \\nBuying with Autodesk  \\nRenewal options  \\nFind a reseller  \\nSales and refunds  \\nChoose your subscription plan  \\nPay as you go with Flex  \\nSupport  \\nProduct support  \\nManage your account  \\nDownload and install software  \\nCOVID-19 resources  \\nEducation support  \\nContact support  \\nPrivacy | Do not sell or share my personal information | Cookie preferences | Report noncompliance | Terms of use | Legal\\xa0|\\xa0© 2023 Autodesk Inc. All rights reserved', metadata={'format': 'html', 'id': 'adsk-505627ba142a4e29be62f01ba9a1be21'}),\n",
       "  Document(page_content='Fusion 360 3-for-2 offer Fusion 360 3-for-2 offer\\nfusion-360-bundle\\nDeals and special offers\\n3-for-2 offer\\nAbout Fusion 360\\nFAQ\\nBuying with Autodesk\\nAll special offers\\nGET 3-FOR-2\\nFUSION 360 OFFER\\nBundle 3 Fusion 360 subscriptions and save 33%\\nPurchase 3 Fusion 360 1-year subscriptions for the price of 2 and save over 500 (33% savings).\\nClick below to purchase offer or apply promo code F3603PK in cart with a bundle of 3 Fusion 360 1-year subscriptions.\\nFusion 360\\nUnify design, engineering, electronics, and manufacturing with Fusion 360.\\n1-year\\nAdd to cart\\nFusion 360: Unify design, engineering, electronics, and manufacturing\\nFusion 360 is a cloud-based 3D modeling, CAD, CAM, CAE, and PCB software platform for professional product design and manufacturing.\\nEnable your growing team to improve product performance and collaboration now for 33% off 3 Fusion 360 1-year subscriptions.', metadata={'format': 'html', 'id': 'adsk-b9792223306a4514b2b83c2bfa35aba0'}),\n",
       "  Document(page_content='What do you primarily plan to use Fusion 360 for?\\nSelect CAM Industrial Design Mechanical Engineering 3D Modeling Electronics\\nWhat is your primary design and manufacturing software solution?\\nSelect Not done in-house None (interested in 3D Viewer/Translator) Altium Autodesk AutoCAD Autodesk EAGLE Autodesk Inventor Mastercam PTC Creo PTC Onshape SOLIDWORKS Other CAM solutions Other Design solutions Other Electronics solutions\\nIndustry field\\nSelect Aerospace and Defense Equipment Automotive and Other Transportation Building Products and Fabrication Consumer Products Education Engineering Service Providers Industrial Machinery Life Sciences Manufacturing Mining Not done in house Other\\nHow many prospective usersareon your team?\\nSelect 1 2-9 10-24 25-99 100+\\nCancel\\nNext\\nNext Page: Company Info Profile\\nHere are a few things to know before you start the download:\\nProduct\\n<product-name>\\nVersion\\n<product-version>\\nLength of Free Trial\\n14-day trial of Autodesk Fusion extensions', metadata={'format': 'html', 'id': 'adsk-57715401e45d44538c9b8abd40965eee'})],\n",
       " 'answer': 'Fusion 360 is a cloud-based 3D modeling, CAD, CAM, CAE, and PCB software platform for product design and manufacturing.'}"
      ]
     },
     "execution_count": 519,
     "metadata": {},
     "output_type": "execute_result"
    }
   ],
   "source": [
    "response = retrieval_chain.invoke(\n",
    "    input_dict\n",
    ")\n",
    "\n",
    "response"
   ]
  },
  {
   "cell_type": "code",
   "execution_count": 523,
   "id": "34748f10-0967-46f8-a4c7-77500acd990b",
   "metadata": {},
   "outputs": [
    {
     "data": {
      "text/plain": [
       "ChatMessageHistory(messages=[HumanMessage(content='What does Fusion 360 do?'), AIMessage(content='Fusion 360 is a cloud-based 3D modeling, CAD, CAM, CAE, and PCB software platform for product design and manufacturing.'), HumanMessage(content='How can it be used for product design?')])"
      ]
     },
     "execution_count": 523,
     "metadata": {},
     "output_type": "execute_result"
    }
   ],
   "source": [
    "demo_ephemeral_chat_history.add_user_message(\"How can it be used for product design?\")\n",
    "demo_ephemeral_chat_history"
   ]
  },
  {
   "cell_type": "code",
   "execution_count": 524,
   "id": "40cf65cb-28d7-4093-9fc2-471b836e8032",
   "metadata": {},
   "outputs": [],
   "source": [
    "query_transformation_prompt = ChatPromptTemplate.from_messages(\n",
    "    [\n",
    "        (\n",
    "            \"system\",\n",
    "            \"You are given a chat between an AI and a Human. Convert the last round of human input to a complete and self-contained question based on the whole conversation.\"\n",
    "            \"The generated self-contained question should be a stand-alone question that can be used as input to an information retrieval tool.\"\n",
    "        ),\n",
    "        MessagesPlaceholder(variable_name=\"messages\"),\n",
    "    ]\n",
    ")"
   ]
  },
  {
   "cell_type": "code",
   "execution_count": 531,
   "id": "24622d3f-d969-4c14-b665-6f21cdb8a84f",
   "metadata": {},
   "outputs": [],
   "source": [
    "from langchain_core.messages import BaseMessage"
   ]
  },
  {
   "cell_type": "code",
   "execution_count": 568,
   "id": "2b83b6b4-ee72-4e01-93c2-ce180778a329",
   "metadata": {},
   "outputs": [],
   "source": [
    "def parse_message_to_query(message: BaseMessage):\n",
    "    return message.content"
   ]
  },
  {
   "cell_type": "code",
   "execution_count": 563,
   "id": "268e77a4-9a33-45b5-a441-29d0feccea63",
   "metadata": {},
   "outputs": [],
   "source": [
    "stand_alone_query_gen_chain = query_transformation_prompt | chat | parse_message_to_query"
   ]
  },
  {
   "cell_type": "code",
   "execution_count": 576,
   "id": "8b71a897-e668-41be-add7-701f6700e5cd",
   "metadata": {},
   "outputs": [],
   "source": [
    "stand_alone_query_gen_chain = RunnablePassthrough.assign(query=query_transformation_prompt | chat | parse_message_to_query)"
   ]
  },
  {
   "cell_type": "code",
   "execution_count": 577,
   "id": "9c05cf7a-5264-4ae1-932a-c8f4c1c4ecbc",
   "metadata": {},
   "outputs": [
    {
     "data": {
      "text/plain": [
       "{'messages': [HumanMessage(content='What does Fusion 360 do?'),\n",
       "  AIMessage(content='Fusion 360 is a cloud-based 3D modeling, CAD, CAM, CAE, and PCB software platform for product design and manufacturing.'),\n",
       "  HumanMessage(content='How can it be used for product design?')],\n",
       " 'chunk_num': 15,\n",
       " 'query': 'How can Fusion 360 be used for product design and manufacturing?'}"
      ]
     },
     "execution_count": 577,
     "metadata": {},
     "output_type": "execute_result"
    }
   ],
   "source": [
    "resp = stand_alone_query_gen_chain.invoke({\n",
    "    \"messages\": demo_ephemeral_chat_history.messages,\n",
    "    \"chunk_num\": 15\n",
    "})\n",
    "\n",
    "resp"
   ]
  },
  {
   "cell_type": "code",
   "execution_count": 600,
   "id": "8d907cd3-f47d-4946-893a-c4ec1b974d4a",
   "metadata": {
    "scrolled": true
   },
   "outputs": [],
   "source": [
    "# ret_chain = stand_alone_query_gen_chain | {\n",
    "#     \"query\": RunnablePassthrough.assign(),\n",
    "#     \"context\": RunnableLambda(invoke_vector)\n",
    "# }\n",
    "\n",
    "# ret_chain = RunnablePassthrough(stand_alone_query_gen_chain) | RunnableLambda(invoke_vector)\n",
    "\n",
    "ret_chain = stand_alone_query_gen_chain.assign(context=RunnableLambda(invoke_vector))\n",
    "rag_chain = ret_chain.assign(answer=document_chain)"
   ]
  },
  {
   "cell_type": "code",
   "execution_count": 604,
   "id": "1a5e911f-95e2-4c80-bc3e-33ec24d6adbd",
   "metadata": {
    "scrolled": true
   },
   "outputs": [
    {
     "name": "stderr",
     "output_type": "stream",
     "text": [
      "Batches: 100%|███████████████████████████████████████████████████████████████████████████████████████████████████████████████████████████████████████████████████████████████████████████████████████████████████████████████████████████████████████████████████████| 1/1 [00:00<00:00, 61.03it/s]\n"
     ]
    },
    {
     "data": {
      "text/plain": [
       "'Fusion 360 can be used for product design by providing access to 3D design and modeling tools that are manufacturing-aware and automate design processes, managing design changes at any stage of production using pre-built workflows, and investigating the performance and manufacturability of designs with integrated simulation.'"
      ]
     },
     "execution_count": 604,
     "metadata": {},
     "output_type": "execute_result"
    }
   ],
   "source": [
    "final_resp = rag_chain.invoke({\n",
    "    \"messages\": demo_ephemeral_chat_history.messages,\n",
    "    \"chunk_num\": 10\n",
    "})\n",
    "\n",
    "final_resp['answer']"
   ]
  },
  {
   "cell_type": "code",
   "execution_count": 534,
   "id": "9541941f-457e-4391-ae71-101ed5ab4e16",
   "metadata": {},
   "outputs": [],
   "source": [
    "retrieval_chain = RunnablePassthrough.assign(\n",
    "    context=RunnablePassthrough.assign(query=stand_alone_query_gen_chain) | RunnableLambda(invoke_vector),\n",
    ").assign(\n",
    "    answer=document_chain,\n",
    ")"
   ]
  },
  {
   "cell_type": "code",
   "execution_count": 538,
   "id": "1ed9a4a9-c3bf-440e-b077-b7db60b329aa",
   "metadata": {},
   "outputs": [
    {
     "name": "stderr",
     "output_type": "stream",
     "text": [
      "Batches: 100%|███████████████████████████████████████████████████████████████████████████████████████████████████████████████████████████████████████████████████████████████████████████████████████████████████████████████████████████████████████████████████████| 1/1 [00:00<00:00, 55.43it/s]\n"
     ]
    }
   ],
   "source": [
    "resp = rag_chain.invoke({\n",
    "    \"messages\": demo_ephemeral_chat_history.messages,\n",
    "    \"chunk_num\": 15\n",
    "})"
   ]
  },
  {
   "cell_type": "code",
   "execution_count": 540,
   "id": "494086fe-10d2-42c6-a6c8-8a32f24e55e7",
   "metadata": {},
   "outputs": [
    {
     "data": {
      "text/plain": [
       "dict_keys(['messages', 'chunk_num', 'context', 'answer'])"
      ]
     },
     "execution_count": 540,
     "metadata": {},
     "output_type": "execute_result"
    }
   ],
   "source": [
    "resp.keys()"
   ]
  },
  {
   "cell_type": "code",
   "execution_count": 597,
   "id": "2c71e00a-b952-4c98-a195-fc51265735d4",
   "metadata": {},
   "outputs": [],
   "source": [
    "test_rag_chain = (\n",
    "    {\"context\": RunnableLambda(lambda x: x.lower()), \"question\": RunnablePassthrough()} | RunnableLambda(lambda x: x['question'] + \" akbar\")\n",
    ")"
   ]
  },
  {
   "cell_type": "code",
   "execution_count": 598,
   "id": "fbdc2ce4-f577-4e8b-af24-437148e7c57a",
   "metadata": {},
   "outputs": [
    {
     "data": {
      "text/plain": [
       "'Hi how are you? akbar'"
      ]
     },
     "execution_count": 598,
     "metadata": {},
     "output_type": "execute_result"
    }
   ],
   "source": [
    "test_rag_chain.invoke(\"Hi how are you?\")"
   ]
  },
  {
   "cell_type": "code",
   "execution_count": 603,
   "id": "6f06ec31-aad9-495e-9bde-8ebd5d95978f",
   "metadata": {},
   "outputs": [],
   "source": [
    "lg_tracing_api_key = \"ls__8e574352d1bf4f2a94ebfbc85a1cf23a\"\n",
    "os.environ['LANGCHAIN_TRACING_V2'] = \"false\"\n",
    "os.environ['LANGCHAIN_API_KEY'] = lg_tracing_api_key"
   ]
  },
  {
   "cell_type": "code",
   "execution_count": 606,
   "id": "57bdcc41-c8b9-4117-881e-436589901939",
   "metadata": {},
   "outputs": [],
   "source": [
    "from langchain.tools.retriever import create_retriever_tool\n",
    "from langchain.tools import Tool"
   ]
  },
  {
   "cell_type": "code",
   "execution_count": 620,
   "id": "3d119a05-7a88-4dd2-9f06-2aa55f8e4772",
   "metadata": {},
   "outputs": [],
   "source": [
    "ret_tool = Tool(\n",
    "    name=\"Information Retrieval\",\n",
    "    func=vector.similarity_search,\n",
    "    description=\"A tool for obtaining infromation from external sources. You should use this tool to answer user questions correctly.\",\n",
    "    args_schema=RetToolInput,\n",
    ")"
   ]
  },
  {
   "cell_type": "code",
   "execution_count": 633,
   "id": "27603d22-f12a-4b0d-9722-5169e4d668f9",
   "metadata": {},
   "outputs": [
    {
     "name": "stderr",
     "output_type": "stream",
     "text": [
      "Batches: 100%|███████████████████████████████████████████████████████████████████████████████████████████████████████████████████████████████████████████████████████████████████████████████████████████████████████████████████████████████████████████████████████| 1/1 [00:00<00:00, 34.88it/s]\n"
     ]
    }
   ],
   "source": [
    "retriever = vector.as_retriever(search_kwargs={'k': 6})\n",
    "len(retriever.invoke(\"what is autodesk?\"))\n",
    "ret_tool = create_retriever_tool(\n",
    "    retriever=retriever,\n",
    "    name=\"Information Retrieval\",\n",
    "    description=\"A tool for obtaining infromation from external sources. You should use this tool to answer user questions correctly.\"\n",
    ")"
   ]
  },
  {
   "cell_type": "code",
   "execution_count": 619,
   "id": "e5cd62f4-992f-46fc-85f3-ce138503fa51",
   "metadata": {},
   "outputs": [],
   "source": [
    "from langchain_core.pydantic_v1 import BaseModel\n",
    "class RetToolInput(BaseModel):\n",
    "    query: str\n",
    "    k: int\n"
   ]
  },
  {
   "cell_type": "code",
   "execution_count": 626,
   "id": "d9ee3f5d-064d-45a4-a945-e78f90f6a134",
   "metadata": {},
   "outputs": [],
   "source": [
    "inp = RetToolInput(**{\"query\": \"what is autodesk?\", \"k\": 10})"
   ]
  },
  {
   "cell_type": "code",
   "execution_count": 638,
   "id": "c0d297dc-3849-487a-8cdf-ccf979f05618",
   "metadata": {
    "scrolled": true
   },
   "outputs": [
    {
     "name": "stderr",
     "output_type": "stream",
     "text": [
      "Batches: 100%|███████████████████████████████████████████████████████████████████████████████████████████████████████████████████████████████████████████████████████████████████████████████████████████████████████████████████████████████████████████████████████| 1/1 [00:00<00:00, 33.75it/s]"
     ]
    },
    {
     "name": "stdout",
     "output_type": "stream",
     "text": [
      "What is Autodesk Platform Services?\n",
      "\n",
      "What is Autodesk Platform Services?\n",
      "\n",
      "Autodesk is a leader in 3D design, engineering and entertainment software.  \n",
      "About us Careers Contact us Investor relations Trust center Newsroom Suppliers Affiliate program\n",
      "\n",
      "Autodesk is a leader in 3D design, engineering and entertainment software.  \n",
      "About us Careers Contact us Investor relations Trust center Newsroom Suppliers Affiliate program\n",
      "\n",
      "Autodesk\n",
      "Autodesk is a leader in 3D design, engineering and entertainment software.\n",
      "About us Careers Contact us Investor relations Trust center Newsroom Suppliers Affiliate Program Referral Program\n",
      "//value = template=/etc/designs/autodesk/adsk-design/images/VideoPlayer_var.swf&source= //flashvars = template=/etc/designs/autodesk/adsk-design/images/VideoPlayer_var.swf&source=\n",
      "of\n",
      "Privacy settings | Privacy/Cookies | About our Ads | Legal | Report Noncompliance | Do not sell my personal information | Site map | ©️ 2020 Autodesk Inc. All rights reserved\n",
      "\n",
      "Autodesk\n",
      "Autodesk is a leader in 3D design, engineering and entertainment software.\n",
      "About us Careers Contact us Investor relations Trust center Newsroom Suppliers Affiliate Program Referral Program\n",
      "Privacy settings | Privacy/Cookies | About our Ads | Legal | Report Noncompliance | Do not sell my personal information | Site map | ©️ 2020 Autodesk Inc. All rights reserved\n"
     ]
    },
    {
     "name": "stderr",
     "output_type": "stream",
     "text": [
      "\n"
     ]
    }
   ],
   "source": [
    "print(ret_tool.run(\"what is autodesk?\"))"
   ]
  },
  {
   "cell_type": "code",
   "execution_count": 660,
   "id": "e1cda514-2667-4b08-9d26-17900912fad2",
   "metadata": {},
   "outputs": [
    {
     "name": "stdout",
     "output_type": "stream",
     "text": [
      "[SystemMessagePromptTemplate(prompt=PromptTemplate(input_variables=[], template='You are a helpful assistant. You may not need to use the Information Retrieval tool for every query - the user may just want to chat!')), MessagesPlaceholder(variable_name='chat_history'), HumanMessagePromptTemplate(prompt=PromptTemplate(input_variables=['input'], template='{input}')), MessagesPlaceholder(variable_name='agent_scratchpad')]\n"
     ]
    }
   ],
   "source": [
    "from langchain.agents import create_openai_functions_agent\n",
    "from langchain import hub\n",
    "\n",
    "# Get the prompt to use - you can modify this!\n",
    "prompt = ChatPromptTemplate.from_messages(\n",
    "    [\n",
    "        (\n",
    "            \"system\",\n",
    "            \"You are a helpful assistant. You may not need to use the Information Retrieval tool for every query - the user may just want to chat!\",\n",
    "        ),\n",
    "        MessagesPlaceholder(variable_name=\"chat_history\"),\n",
    "        (\"human\", \"{input}\"),\n",
    "        MessagesPlaceholder(variable_name=\"agent_scratchpad\"),\n",
    "    ]\n",
    ")\n",
    "print(prompt.messages)\n",
    "\n",
    "agent = create_openai_functions_agent(chat, [ret_tool], prompt)"
   ]
  },
  {
   "cell_type": "code",
   "execution_count": 665,
   "id": "1cfd625a-b48b-4d04-91ec-47df4abce4f1",
   "metadata": {},
   "outputs": [
    {
     "data": {
      "text/plain": [
       "[HumanMessage(content='What does Fusion 360 do?'),\n",
       " AIMessage(content='Fusion 360 is a cloud-based 3D modeling, CAD, CAM, CAE, and PCB software platform for product design and manufacturing.'),\n",
       " HumanMessage(content='How can it be used for product design?')]"
      ]
     },
     "execution_count": 665,
     "metadata": {},
     "output_type": "execute_result"
    }
   ],
   "source": [
    "demo_ephemeral_chat_history.messages"
   ]
  },
  {
   "cell_type": "code",
   "execution_count": 662,
   "id": "6f6f0544-ae79-4ccd-acf8-b7c93898b477",
   "metadata": {},
   "outputs": [],
   "source": [
    "agent_executor = AgentExecutor(agent=agent, tools=[ret_tool], verbose=True)"
   ]
  },
  {
   "cell_type": "code",
   "execution_count": 663,
   "id": "48243640-f87c-48b1-9eab-6f7af94ee8fe",
   "metadata": {},
   "outputs": [
    {
     "data": {
      "text/plain": [
       "AgentExecutor(verbose=True, agent=RunnableAgent(runnable=RunnableAssign(mapper={\n",
       "  agent_scratchpad: RunnableLambda(lambda x: format_to_openai_function_messages(x['intermediate_steps']))\n",
       "})\n",
       "| ChatPromptTemplate(input_variables=['agent_scratchpad', 'chat_history', 'input'], input_types={'chat_history': typing.List[typing.Union[langchain_core.messages.ai.AIMessage, langchain_core.messages.human.HumanMessage, langchain_core.messages.chat.ChatMessage, langchain_core.messages.system.SystemMessage, langchain_core.messages.function.FunctionMessage, langchain_core.messages.tool.ToolMessage]], 'agent_scratchpad': typing.List[typing.Union[langchain_core.messages.ai.AIMessage, langchain_core.messages.human.HumanMessage, langchain_core.messages.chat.ChatMessage, langchain_core.messages.system.SystemMessage, langchain_core.messages.function.FunctionMessage, langchain_core.messages.tool.ToolMessage]]}, messages=[SystemMessagePromptTemplate(prompt=PromptTemplate(input_variables=[], template='You are a helpful assistant. You may not need to use the Information Retrieval tool for every query - the user may just want to chat!')), MessagesPlaceholder(variable_name='chat_history'), HumanMessagePromptTemplate(prompt=PromptTemplate(input_variables=['input'], template='{input}')), MessagesPlaceholder(variable_name='agent_scratchpad')])\n",
       "| RunnableBinding(bound=ChatOpenAI(client=<openai.resources.chat.completions.Completions object at 0x7fdd907cf460>, async_client=<openai.resources.chat.completions.AsyncCompletions object at 0x7fdd907ce3e0>, model_name='gpt-3.5-turbo-1106', openai_api_key=SecretStr('**********'), openai_proxy=''), kwargs={'functions': [{'name': 'Information Retrieval', 'description': 'A tool for obtaining infromation from external sources. You should use this tool to answer user questions correctly.', 'parameters': {'type': 'object', 'properties': {'query': {'description': 'query to look up in retriever', 'type': 'string'}}, 'required': ['query']}}]})\n",
       "| OpenAIFunctionsAgentOutputParser(), input_keys_arg=[], return_keys_arg=[]), tools=[Tool(name='Information Retrieval', description='A tool for obtaining infromation from external sources. You should use this tool to answer user questions correctly.', args_schema=<class 'langchain.tools.retriever.RetrieverInput'>, func=functools.partial(<function _get_relevant_documents at 0x7fded0e6f1c0>, retriever=VectorStoreRetriever(tags=['FAISS', 'HuggingFaceEmbeddings'], vectorstore=<langchain_community.vectorstores.faiss.FAISS object at 0x7fddb80d7610>, search_kwargs={'k': 6}), document_prompt=PromptTemplate(input_variables=['page_content'], template='{page_content}'), document_separator='\\n\\n'), coroutine=functools.partial(<function _aget_relevant_documents at 0x7fded0e6f250>, retriever=VectorStoreRetriever(tags=['FAISS', 'HuggingFaceEmbeddings'], vectorstore=<langchain_community.vectorstores.faiss.FAISS object at 0x7fddb80d7610>, search_kwargs={'k': 6}), document_prompt=PromptTemplate(input_variables=['page_content'], template='{page_content}'), document_separator='\\n\\n'))])"
      ]
     },
     "execution_count": 663,
     "metadata": {},
     "output_type": "execute_result"
    }
   ],
   "source": [
    "agent_executor"
   ]
  },
  {
   "cell_type": "code",
   "execution_count": null,
   "id": "1350a9e9-9809-4a61-a96c-6bb1e779ed3f",
   "metadata": {},
   "outputs": [],
   "source": [
    "from langchain.agents import AgentExecutor"
   ]
  },
  {
   "cell_type": "code",
   "execution_count": null,
   "id": "20d8d650-f641-4ce5-bfc1-984cd02f21de",
   "metadata": {},
   "outputs": [],
   "source": []
  },
  {
   "cell_type": "code",
   "execution_count": null,
   "id": "b8dd9f1c-7f59-441c-8511-b67b536b1ab2",
   "metadata": {},
   "outputs": [],
   "source": [
    "# 2. Create Tools\n",
    "retriever_tool = create_retriever_tool(\n",
    "    retriever,\n",
    "    \"langsmith_search\",\n",
    "    \"Search for information about LangSmith. For any questions about LangSmith, you must use this tool!\",\n",
    ")\n",
    "search = TavilySearchResults()\n",
    "tools = [retriever_tool, search]\n",
    "\n",
    "\n",
    "# 3. Create Agent\n",
    "prompt = hub.pull(\"hwchase17/openai-functions-agent\")\n",
    "llm = ChatOpenAI(model=\"gpt-3.5-turbo\", temperature=0)\n",
    "agent = create_openai_functions_agent(llm, tools, prompt)\n",
    "agent_executor = AgentExecutor(agent=agent, tools=tools, verbose=True)\n",
    "\n",
    "\n",
    "# 4. App definition\n",
    "app = FastAPI(\n",
    "  title=\"LangChain Server\",\n",
    "  version=\"1.0\",\n",
    "  description=\"A simple API server using LangChain's Runnable interfaces\",\n",
    ")\n",
    "\n",
    "# 5. Adding chain route\n",
    "\n",
    "# We need to add these input/output schemas because the current AgentExecutor\n",
    "# is lacking in schemas.\n",
    "\n",
    "class Input(BaseModel):\n",
    "    input: str\n",
    "    chat_history: List[BaseMessage] = Field(\n",
    "        ...,\n",
    "        extra={\"widget\": {\"type\": \"chat\", \"input\": \"location\"}},\n",
    "    )\n",
    "\n",
    "\n",
    "class Output(BaseModel):\n",
    "    output: str\n",
    "\n",
    "add_routes(\n",
    "    app,\n",
    "    agent_executor.with_types(input_type=Input, output_type=Output),\n",
    "    path=\"/agent\",\n",
    ")\n",
    "\n",
    "if __name__ == \"__main__\":\n",
    "    import uvicorn\n",
    "\n",
    "    uvicorn.run(app, host=\"localhost\", port=8000)"
   ]
  }
 ],
 "metadata": {
  "kernelspec": {
   "display_name": "Python 3 (ipykernel)",
   "language": "python",
   "name": "python3"
  },
  "language_info": {
   "codemirror_mode": {
    "name": "ipython",
    "version": 3
   },
   "file_extension": ".py",
   "mimetype": "text/x-python",
   "name": "python",
   "nbconvert_exporter": "python",
   "pygments_lexer": "ipython3",
   "version": "3.10.13"
  }
 },
 "nbformat": 4,
 "nbformat_minor": 5
}
