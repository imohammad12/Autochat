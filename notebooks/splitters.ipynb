{
 "cells": [
  {
   "cell_type": "code",
   "execution_count": 1,
   "id": "608fed36-4b72-4056-9c9a-6f92fac737c9",
   "metadata": {},
   "outputs": [],
   "source": [
    "%load_ext autoreload\n",
    "%autoreload 2\n",
    "!export CUDA_VISIBLE_DEVICES=5\n",
    "\n",
    "import sys\n",
    "    \n",
    "import re\n",
    "import os\n",
    "import json\n",
    "import torch\n",
    "import numpy as np\n",
    "\n",
    "sys.path.append('../')"
   ]
  },
  {
   "cell_type": "code",
   "execution_count": 93,
   "id": "2de8cb34-4f69-4ac7-a74d-ef14ce90bd41",
   "metadata": {},
   "outputs": [],
   "source": [
    "from src.auto_chat.text_splitters import RecursiveCharacterTextSplitterAndFilterer, HTMLHeaderTextSplitterAndFilterer\n",
    "from langchain_core.documents import Document"
   ]
  },
  {
   "cell_type": "code",
   "execution_count": 95,
   "id": "d7f8d352-9c37-4561-8273-09aec1c7d1ec",
   "metadata": {},
   "outputs": [],
   "source": [
    "rts = RecursiveCharacterTextSplitterAndFilterer(\n",
    "    min_words_drop=8,\n",
    "    do_clean=False,\n",
    "    **{\n",
    "        \"chunk_size\": 1000,\n",
    "        \"chunk_overlap\": 200,\n",
    "        \"separators\": [\"\\n\\n\", \"\\n\"]\n",
    "    }\n",
    ")\n",
    "\n",
    "hts = HTMLHeaderTextSplitterAndFilterer(\n",
    "    min_words_drop=8,\n",
    "    do_clean=False,\n",
    "    **{\n",
    "        \"headers_to_split_on\": [\n",
    "          [\n",
    "            \"h1\",\n",
    "            \"Header 1\"\n",
    "          ],\n",
    "          [\n",
    "            \"h2\",\n",
    "            \"Header 2\"\n",
    "          ],\n",
    "          [\n",
    "            \"h3\",\n",
    "            \"Header 3\"\n",
    "          ]\n",
    "        ]\n",
    "      }\n",
    ")\n",
    "\n",
    "# list(reversed([\"\\n\\n\", \"\\n\", \" \", \"\"]))"
   ]
  },
  {
   "cell_type": "code",
   "execution_count": 96,
   "id": "fb69db7b-8dc0-4d2a-920f-fbae5ba0eb1b",
   "metadata": {},
   "outputs": [],
   "source": [
    "ss = \"\"\"asdfm asdf hi how are you? ?? ?? \n",
    "\n",
    "\n",
    "\n",
    "fsadf\n",
    "oh how?\n",
    "\n",
    "\n",
    "\n",
    "a\n",
    "akbar akbarrrrrrr rr rr rr rr rr rr rr sef asdf rqwe wer sd\n",
    "\"\"\"\n",
    "\n",
    "# ss = \"asdfm asdf hi how are you? ?? ?? \"\n",
    "\n",
    "html_string = \"\"\"\n",
    "<!DOCTYPE html>\n",
    "<html>\n",
    "<body>\n",
    "    <div>\n",
    "        <h1>Foo</h1>\n",
    "        <p>Some intro text about Foo.</p>\n",
    "        <div>\n",
    "            <h2>Bar main section</h2>\n",
    "            <p>Some intro text about Bar.</p>\n",
    "            <h3>Bar subsection 1</h3>\n",
    "            <p>Some text about the first subtopic of Bar.</p>\n",
    "            <h3>Bar subsection 2</h3>\n",
    "            <p>Some text about the second subtopic of Bar.</p>\n",
    "        </div>\n",
    "        <div>\n",
    "            <h2>Baz</h2>\n",
    "            <p>Some text about Baz</p>\n",
    "        </div>\n",
    "        <br>\n",
    "        <p>Some concluding text about Foo</p>\n",
    "    </div>\n",
    "</body>\n",
    "</html>\n",
    "\"\"\"\n",
    "docs = [\n",
    "    Document(page_content=html_string)\n",
    "]"
   ]
  },
  {
   "cell_type": "code",
   "execution_count": 92,
   "id": "1f324b0c-232a-46ea-bf34-edba5c5b33b3",
   "metadata": {},
   "outputs": [
    {
     "name": "stdout",
     "output_type": "stream",
     "text": [
      "asdfm asdf hi how are you? ?? ?? \n",
      "\n",
      "a\n",
      "akbar akbarrrrrrr rr rr rr rr rr rr rr sef asdf rqwe wer sd\n"
     ]
    }
   ],
   "source": [
    "print(rts.split_documents(documents=docs)[0].page_content)"
   ]
  },
  {
   "cell_type": "code",
   "execution_count": 98,
   "id": "24dff3f2-a42b-4cf4-9796-c14a7a15456e",
   "metadata": {},
   "outputs": [
    {
     "name": "stderr",
     "output_type": "stream",
     "text": [
      "Splitting pages with HTML splitter: 100%|████████████████████████████████████████████████████████████████████████████████████████████████████████████████████████████████████| 1/1 [00:00<00:00, 318.38it/s]"
     ]
    },
    {
     "name": "stdout",
     "output_type": "stream",
     "text": [
      "page_content='Some intro text about Foo.  \\nBar main section Bar subsection 1 Bar subsection 2' metadata={'Header 1': 'Foo'}\n",
      "page_content='Some text about the first subtopic of Bar.' metadata={'Header 1': 'Foo', 'Header 2': 'Bar main section', 'Header 3': 'Bar subsection 1'}\n",
      "page_content='Some text about the second subtopic of Bar.' metadata={'Header 1': 'Foo', 'Header 2': 'Bar main section', 'Header 3': 'Bar subsection 2'}\n"
     ]
    },
    {
     "name": "stderr",
     "output_type": "stream",
     "text": [
      "\n"
     ]
    }
   ],
   "source": [
    "for i in hts.split_documents(documents=docs):\n",
    "    print(i)"
   ]
  },
  {
   "cell_type": "code",
   "execution_count": null,
   "id": "45c83286-d860-4474-b8a4-2df789a7db96",
   "metadata": {},
   "outputs": [],
   "source": [
    "from datasets import Dataset\n",
    "from ragas.metrics import context_precision\n",
    "from ragas import evaluate\n",
    "\n",
    "data_samples = {\n",
    "    'question': ['When was the first super bowl?', 'Who won the most super bowls?'],\n",
    "    'answer': ['The first superbowl was held on Jan 15, 1967', 'The most super bowls have been won by The New England Patriots'],\n",
    "    'contexts' : [['The First AFL–NFL World Championship Game was an American football game played on January 15, 1967, at the Los Angeles Memorial Coliseum in Los Angeles,'],\n",
    "    ['The Green Bay Packers...Green Bay, Wisconsin.','The Packers compete...Football Conference']],\n",
    "    'ground_truth': ['The first superbowl was held on January 15, 1967', 'The New England Patriots have won the Super Bowl a record six times']\n",
    "}\n",
    "dataset = Dataset.from_dict(data_samples)\n",
    "score = evaluate(dataset,metrics=[context_precision])\n",
    "score.to_pandas()\n"
   ]
  },
  {
   "cell_type": "code",
   "execution_count": null,
   "id": "88c19c7a-ec67-4735-8126-9509d357ec40",
   "metadata": {},
   "outputs": [],
   "source": []
  }
 ],
 "metadata": {
  "kernelspec": {
   "display_name": "Python 3 (ipykernel)",
   "language": "python",
   "name": "python3"
  },
  "language_info": {
   "codemirror_mode": {
    "name": "ipython",
    "version": 3
   },
   "file_extension": ".py",
   "mimetype": "text/x-python",
   "name": "python",
   "nbconvert_exporter": "python",
   "pygments_lexer": "ipython3",
   "version": "3.10.13"
  }
 },
 "nbformat": 4,
 "nbformat_minor": 5
}